{
 "cells": [
  {
   "cell_type": "code",
   "execution_count": null,
   "id": "129716a2-90b9-4240-8186-c9570a310f98",
   "metadata": {},
   "outputs": [],
   "source": [
    "import sys\n",
    "import os\n",
    "\n",
    "# Add the src folder to sys.path to import your module\n",
    "sys.path.append(os.path.abspath(\"../src\"))\n",
    "\n",
    "from reviews_utils import scrape_reviews, preprocess_reviews\n",
    "import pandas as pd\n",
    "\n",
    "# Example usage:\n",
    "app_ids = {\n",
    "    \"Commercial Bank of Ethiopia\": \"com.combanketh.cmbmobile.android\",\n",
    "    \"Bank of Abyssinia\": \"com.abyssiniasoftware.boa\",\n",
    "    \"Dashen Bank\": \"com.mfino.dashenbank\"\n",
    "}\n",
    "\n",
    "# Load scraped data or scrape fresh\n",
    "df_raw = pd.read_csv(\"../data/ethiopian_bank_reviews.csv\")  # adjust if you put data in a data/ folder\n",
    "\n",
    "cleaned_df = preprocess_reviews(df_raw)\n",
    "\n",
    "cleaned_df.head()\n"
   ]
  }
 ],
 "metadata": {
  "kernelspec": {
   "display_name": "Python 3 (ipykernel)",
   "language": "python",
   "name": "python3"
  },
  "language_info": {
   "codemirror_mode": {
    "name": "ipython",
    "version": 3
   },
   "file_extension": ".py",
   "mimetype": "text/x-python",
   "name": "python",
   "nbconvert_exporter": "python",
   "pygments_lexer": "ipython3",
   "version": "3.13.3"
  }
 },
 "nbformat": 4,
 "nbformat_minor": 5
}
